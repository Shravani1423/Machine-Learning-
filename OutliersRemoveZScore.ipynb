{
 "cells": [
  {
   "cell_type": "code",
   "execution_count": 2,
   "id": "78bac96e",
   "metadata": {},
   "outputs": [],
   "source": [
    "import pandas as pd\n",
    "import matplotlib.pyplot as plt\n",
    "import seaborn as sns"
   ]
  },
  {
   "cell_type": "code",
   "execution_count": null,
   "id": "807c52b1",
   "metadata": {},
   "outputs": [],
   "source": []
  },
  {
   "cell_type": "code",
   "execution_count": 3,
   "id": "bb72f74f",
   "metadata": {},
   "outputs": [
    {
     "data": {
      "text/html": [
       "<div>\n",
       "<style scoped>\n",
       "    .dataframe tbody tr th:only-of-type {\n",
       "        vertical-align: middle;\n",
       "    }\n",
       "\n",
       "    .dataframe tbody tr th {\n",
       "        vertical-align: top;\n",
       "    }\n",
       "\n",
       "    .dataframe thead th {\n",
       "        text-align: right;\n",
       "    }\n",
       "</style>\n",
       "<table border=\"1\" class=\"dataframe\">\n",
       "  <thead>\n",
       "    <tr style=\"text-align: right;\">\n",
       "      <th></th>\n",
       "      <th>Loan_ID</th>\n",
       "      <th>Gender</th>\n",
       "      <th>Married</th>\n",
       "      <th>Department</th>\n",
       "      <th>Education</th>\n",
       "      <th>Self_Employed</th>\n",
       "      <th>ApplicantIncome</th>\n",
       "      <th>CoapplicantIncome</th>\n",
       "      <th>LoanAmount</th>\n",
       "      <th>Loan_Amount_Term</th>\n",
       "      <th>Credit_History</th>\n",
       "      <th>Property_Area</th>\n",
       "      <th>Loan_Status</th>\n",
       "    </tr>\n",
       "  </thead>\n",
       "  <tbody>\n",
       "    <tr>\n",
       "      <th>0</th>\n",
       "      <td>LP00001</td>\n",
       "      <td>Male</td>\n",
       "      <td>No</td>\n",
       "      <td>HR</td>\n",
       "      <td>Graduate</td>\n",
       "      <td>No</td>\n",
       "      <td>26453.0</td>\n",
       "      <td>2297.0</td>\n",
       "      <td>534.0</td>\n",
       "      <td>60.0</td>\n",
       "      <td>1.0</td>\n",
       "      <td>Semiurban</td>\n",
       "      <td>Y</td>\n",
       "    </tr>\n",
       "    <tr>\n",
       "      <th>1</th>\n",
       "      <td>LP00002</td>\n",
       "      <td>Female</td>\n",
       "      <td>NaN</td>\n",
       "      <td>HR</td>\n",
       "      <td>Graduate</td>\n",
       "      <td>No</td>\n",
       "      <td>43207.0</td>\n",
       "      <td>5101.0</td>\n",
       "      <td>584.0</td>\n",
       "      <td>360.0</td>\n",
       "      <td>0.0</td>\n",
       "      <td>Urban</td>\n",
       "      <td>NaN</td>\n",
       "    </tr>\n",
       "    <tr>\n",
       "      <th>2</th>\n",
       "      <td>LP00003</td>\n",
       "      <td>Female</td>\n",
       "      <td>No</td>\n",
       "      <td>Finance</td>\n",
       "      <td>Graduate</td>\n",
       "      <td>Yes</td>\n",
       "      <td>21018.0</td>\n",
       "      <td>3607.0</td>\n",
       "      <td>555.0</td>\n",
       "      <td>240.0</td>\n",
       "      <td>0.0</td>\n",
       "      <td>Urban</td>\n",
       "      <td>N</td>\n",
       "    </tr>\n",
       "  </tbody>\n",
       "</table>\n",
       "</div>"
      ],
      "text/plain": [
       "   Loan_ID  Gender Married Department Education Self_Employed  \\\n",
       "0  LP00001    Male      No         HR  Graduate            No   \n",
       "1  LP00002  Female     NaN         HR  Graduate            No   \n",
       "2  LP00003  Female      No    Finance  Graduate           Yes   \n",
       "\n",
       "   ApplicantIncome  CoapplicantIncome  LoanAmount  Loan_Amount_Term  \\\n",
       "0          26453.0             2297.0       534.0              60.0   \n",
       "1          43207.0             5101.0       584.0             360.0   \n",
       "2          21018.0             3607.0       555.0             240.0   \n",
       "\n",
       "   Credit_History Property_Area Loan_Status  \n",
       "0             1.0     Semiurban           Y  \n",
       "1             0.0         Urban         NaN  \n",
       "2             0.0         Urban           N  "
      ]
     },
     "execution_count": 3,
     "metadata": {},
     "output_type": "execute_result"
    }
   ],
   "source": [
    "dataset =pd.read_csv(\"loan_dataset.csv\")\n",
    "dataset.head(3)"
   ]
  },
  {
   "cell_type": "code",
   "execution_count": null,
   "id": "550bfbaa",
   "metadata": {},
   "outputs": [],
   "source": [
    "dataset.shape"
   ]
  },
  {
   "cell_type": "code",
   "execution_count": 4,
   "id": "b863fe1a",
   "metadata": {},
   "outputs": [
    {
     "data": {
      "text/plain": [
       "Loan_ID               0\n",
       "Gender                5\n",
       "Married               6\n",
       "Department            5\n",
       "Education            12\n",
       "Self_Employed        15\n",
       "ApplicantIncome      12\n",
       "CoapplicantIncome    11\n",
       "LoanAmount           10\n",
       "Loan_Amount_Term      3\n",
       "Credit_History       10\n",
       "Property_Area        13\n",
       "Loan_Status          12\n",
       "dtype: int64"
      ]
     },
     "execution_count": 4,
     "metadata": {},
     "output_type": "execute_result"
    }
   ],
   "source": [
    "dataset.isnull().sum()"
   ]
  },
  {
   "cell_type": "code",
   "execution_count": 5,
   "id": "f391167d",
   "metadata": {},
   "outputs": [
    {
     "name": "stderr",
     "output_type": "stream",
     "text": [
      "C:\\Users\\SHRAVANI\\AppData\\Local\\Temp\\ipykernel_260\\52047453.py:1: FutureWarning: A value is trying to be set on a copy of a DataFrame or Series through chained assignment using an inplace method.\n",
      "The behavior will change in pandas 3.0. This inplace method will never work because the intermediate object on which we are setting values always behaves as a copy.\n",
      "\n",
      "For example, when doing 'df[col].method(value, inplace=True)', try using 'df.method({col: value}, inplace=True)' or df[col] = df[col].method(value) instead, to perform the operation inplace on the original object.\n",
      "\n",
      "\n",
      "  dataset[\"CoapplicantIncome\"].fillna(dataset[\"CoapplicantIncome\"].mode()[0],inplace=True)\n"
     ]
    }
   ],
   "source": [
    "dataset[\"CoapplicantIncome\"].fillna(dataset[\"CoapplicantIncome\"].mode()[0],inplace=True)"
   ]
  },
  {
   "cell_type": "code",
   "execution_count": 6,
   "id": "31166585",
   "metadata": {},
   "outputs": [
    {
     "data": {
      "text/html": [
       "<div>\n",
       "<style scoped>\n",
       "    .dataframe tbody tr th:only-of-type {\n",
       "        vertical-align: middle;\n",
       "    }\n",
       "\n",
       "    .dataframe tbody tr th {\n",
       "        vertical-align: top;\n",
       "    }\n",
       "\n",
       "    .dataframe thead th {\n",
       "        text-align: right;\n",
       "    }\n",
       "</style>\n",
       "<table border=\"1\" class=\"dataframe\">\n",
       "  <thead>\n",
       "    <tr style=\"text-align: right;\">\n",
       "      <th></th>\n",
       "      <th>ApplicantIncome</th>\n",
       "      <th>CoapplicantIncome</th>\n",
       "      <th>LoanAmount</th>\n",
       "      <th>Loan_Amount_Term</th>\n",
       "      <th>Credit_History</th>\n",
       "    </tr>\n",
       "  </thead>\n",
       "  <tbody>\n",
       "    <tr>\n",
       "      <th>count</th>\n",
       "      <td>88.000000</td>\n",
       "      <td>100.000000</td>\n",
       "      <td>90.000000</td>\n",
       "      <td>97.000000</td>\n",
       "      <td>90.000000</td>\n",
       "    </tr>\n",
       "    <tr>\n",
       "      <th>mean</th>\n",
       "      <td>26531.840909</td>\n",
       "      <td>10566.780000</td>\n",
       "      <td>398.844444</td>\n",
       "      <td>183.340206</td>\n",
       "      <td>0.411111</td>\n",
       "    </tr>\n",
       "    <tr>\n",
       "      <th>std</th>\n",
       "      <td>14604.458394</td>\n",
       "      <td>7589.259147</td>\n",
       "      <td>188.086874</td>\n",
       "      <td>123.228352</td>\n",
       "      <td>0.494792</td>\n",
       "    </tr>\n",
       "    <tr>\n",
       "      <th>min</th>\n",
       "      <td>1390.000000</td>\n",
       "      <td>253.000000</td>\n",
       "      <td>52.000000</td>\n",
       "      <td>12.000000</td>\n",
       "      <td>0.000000</td>\n",
       "    </tr>\n",
       "    <tr>\n",
       "      <th>25%</th>\n",
       "      <td>13871.250000</td>\n",
       "      <td>3796.000000</td>\n",
       "      <td>273.500000</td>\n",
       "      <td>60.000000</td>\n",
       "      <td>0.000000</td>\n",
       "    </tr>\n",
       "    <tr>\n",
       "      <th>50%</th>\n",
       "      <td>27486.000000</td>\n",
       "      <td>9835.500000</td>\n",
       "      <td>404.500000</td>\n",
       "      <td>180.000000</td>\n",
       "      <td>0.000000</td>\n",
       "    </tr>\n",
       "    <tr>\n",
       "      <th>75%</th>\n",
       "      <td>39461.000000</td>\n",
       "      <td>16995.000000</td>\n",
       "      <td>563.000000</td>\n",
       "      <td>300.000000</td>\n",
       "      <td>1.000000</td>\n",
       "    </tr>\n",
       "    <tr>\n",
       "      <th>max</th>\n",
       "      <td>49337.000000</td>\n",
       "      <td>24684.000000</td>\n",
       "      <td>690.000000</td>\n",
       "      <td>360.000000</td>\n",
       "      <td>1.000000</td>\n",
       "    </tr>\n",
       "  </tbody>\n",
       "</table>\n",
       "</div>"
      ],
      "text/plain": [
       "       ApplicantIncome  CoapplicantIncome  LoanAmount  Loan_Amount_Term  \\\n",
       "count        88.000000         100.000000   90.000000         97.000000   \n",
       "mean      26531.840909       10566.780000  398.844444        183.340206   \n",
       "std       14604.458394        7589.259147  188.086874        123.228352   \n",
       "min        1390.000000         253.000000   52.000000         12.000000   \n",
       "25%       13871.250000        3796.000000  273.500000         60.000000   \n",
       "50%       27486.000000        9835.500000  404.500000        180.000000   \n",
       "75%       39461.000000       16995.000000  563.000000        300.000000   \n",
       "max       49337.000000       24684.000000  690.000000        360.000000   \n",
       "\n",
       "       Credit_History  \n",
       "count       90.000000  \n",
       "mean         0.411111  \n",
       "std          0.494792  \n",
       "min          0.000000  \n",
       "25%          0.000000  \n",
       "50%          0.000000  \n",
       "75%          1.000000  \n",
       "max          1.000000  "
      ]
     },
     "execution_count": 6,
     "metadata": {},
     "output_type": "execute_result"
    }
   ],
   "source": [
    "dataset.describe()"
   ]
  },
  {
   "cell_type": "code",
   "execution_count": 7,
   "id": "959d1704",
   "metadata": {},
   "outputs": [
    {
     "data": {
      "text/plain": [
       "<Axes: xlabel='CoapplicantIncome'>"
      ]
     },
     "execution_count": 7,
     "metadata": {},
     "output_type": "execute_result"
    },
    {
     "data": {
      "image/png": "[encoded data removed]",
      "text/plain": [
       "<Figure size 640x480 with 1 Axes>"
      ]
     },
     "metadata": {},
     "output_type": "display_data"
    }
   ],
   "source": [
    "sns.boxplot(x=\"CoapplicantIncome\", data=dataset)"
   ]
  },
  {
   "cell_type": "code",
   "execution_count": 8,
   "id": "afb36383",
   "metadata": {},
   "outputs": [
    {
     "name": "stderr",
     "output_type": "stream",
     "text": [
      "C:\\Users\\SHRAVANI\\AppData\\Local\\Temp\\ipykernel_260\\2328021184.py:1: UserWarning: \n",
      "\n",
      "`distplot` is a deprecated function and will be removed in seaborn v0.14.0.\n",
      "\n",
      "Please adapt your code to use either `displot` (a figure-level function with\n",
      "similar flexibility) or `histplot` (an axes-level function for histograms).\n",
      "\n",
      "For a guide to updating your code to use the new functions, please see\n",
      "https://gist.github.com/mwaskom/de44147ed2974457ad6372750bbe5751\n",
      "\n",
      "  sns.distplot(dataset[\"CoapplicantIncome\"])\n"
     ]
    },
    {
     "data": {
      "text/plain": [
       "<Axes: xlabel='CoapplicantIncome', ylabel='Density'>"
      ]
     },
     "execution_count": 8,
     "metadata": {},
     "output_type": "execute_result"
    },
    {
     "data": {
      "image/png": "[encoded data removed]",
      "text/plain": [
       "<Figure size 640x480 with 1 Axes>"
      ]
     },
     "metadata": {},
     "output_type": "display_data"
    }
   ],
   "source": [
    "sns.distplot(dataset[\"CoapplicantIncome\"])"
   ]
  },
  {
   "cell_type": "code",
   "execution_count": 9,
   "id": "5001938a",
   "metadata": {},
   "outputs": [],
   "source": [
    "#directly"
   ]
  },
  {
   "cell_type": "code",
   "execution_count": 10,
   "id": "c2620045",
   "metadata": {},
   "outputs": [],
   "source": [
    "min_range = dataset[\"CoapplicantIncome\"].mean() - 3*dataset[\"CoapplicantIncome\"].std()\n",
    "max_range = dataset[\"CoapplicantIncome\"].mean() + 3*dataset[\"CoapplicantIncome\"].std()"
   ]
  },
  {
   "cell_type": "code",
   "execution_count": 11,
   "id": "80106a54",
   "metadata": {},
   "outputs": [
    {
     "data": {
      "text/plain": [
       "(np.float64(-12200.997440057692), np.float64(33334.557440057695))"
      ]
     },
     "execution_count": 11,
     "metadata": {},
     "output_type": "execute_result"
    }
   ],
   "source": [
    "min_range,max_range"
   ]
  },
  {
   "cell_type": "code",
   "execution_count": 12,
   "id": "fc8b8aee",
   "metadata": {},
   "outputs": [],
   "source": [
    "new_data =dataset[dataset[\"CoapplicantIncome\"]<= max_range]"
   ]
  },
  {
   "cell_type": "code",
   "execution_count": 13,
   "id": "4e3ec357",
   "metadata": {},
   "outputs": [
    {
     "data": {
      "text/plain": [
       "<Axes: xlabel='CoapplicantIncome'>"
      ]
     },
     "execution_count": 13,
     "metadata": {},
     "output_type": "execute_result"
    },
    {
     "data": {
      "image/png": "[encoded data removed]",
      "text/plain": [
       "<Figure size 640x480 with 1 Axes>"
      ]
     },
     "metadata": {},
     "output_type": "display_data"
    }
   ],
   "source": [
    "sns.boxplot(x=\"CoapplicantIncome\", data=dataset)"
   ]
  },
  {
   "cell_type": "code",
   "execution_count": null,
   "id": "c429f05e",
   "metadata": {},
   "outputs": [],
   "source": [
    "# zscore  (x - mean)/SD"
   ]
  },
  {
   "cell_type": "code",
   "execution_count": 14,
   "id": "77dbafcf",
   "metadata": {},
   "outputs": [],
   "source": [
    "z_score =(dataset[\"CoapplicantIncome\"] - dataset[\"CoapplicantIncome\"].mean())/(dataset[\"CoapplicantIncome\"].std())"
   ]
  },
  {
   "cell_type": "code",
   "execution_count": 16,
   "id": "efed544d",
   "metadata": {},
   "outputs": [],
   "source": [
    "dataset[\"z_score\"]=z_score "
   ]
  },
  {
   "cell_type": "code",
   "execution_count": 17,
   "id": "a5254a0c",
   "metadata": {},
   "outputs": [
    {
     "data": {
      "text/html": [
       "<div>\n",
       "<style scoped>\n",
       "    .dataframe tbody tr th:only-of-type {\n",
       "        vertical-align: middle;\n",
       "    }\n",
       "\n",
       "    .dataframe tbody tr th {\n",
       "        vertical-align: top;\n",
       "    }\n",
       "\n",
       "    .dataframe thead th {\n",
       "        text-align: right;\n",
       "    }\n",
       "</style>\n",
       "<table border=\"1\" class=\"dataframe\">\n",
       "  <thead>\n",
       "    <tr style=\"text-align: right;\">\n",
       "      <th></th>\n",
       "      <th>Loan_ID</th>\n",
       "      <th>Gender</th>\n",
       "      <th>Married</th>\n",
       "      <th>Department</th>\n",
       "      <th>Education</th>\n",
       "      <th>Self_Employed</th>\n",
       "      <th>ApplicantIncome</th>\n",
       "      <th>CoapplicantIncome</th>\n",
       "      <th>LoanAmount</th>\n",
       "      <th>Loan_Amount_Term</th>\n",
       "      <th>Credit_History</th>\n",
       "      <th>Property_Area</th>\n",
       "      <th>Loan_Status</th>\n",
       "      <th>z_score</th>\n",
       "    </tr>\n",
       "  </thead>\n",
       "  <tbody>\n",
       "    <tr>\n",
       "      <th>0</th>\n",
       "      <td>LP00001</td>\n",
       "      <td>Male</td>\n",
       "      <td>No</td>\n",
       "      <td>HR</td>\n",
       "      <td>Graduate</td>\n",
       "      <td>No</td>\n",
       "      <td>26453.0</td>\n",
       "      <td>2297.0</td>\n",
       "      <td>534.0</td>\n",
       "      <td>60.0</td>\n",
       "      <td>1.0</td>\n",
       "      <td>Semiurban</td>\n",
       "      <td>Y</td>\n",
       "      <td>-1.089669</td>\n",
       "    </tr>\n",
       "    <tr>\n",
       "      <th>1</th>\n",
       "      <td>LP00002</td>\n",
       "      <td>Female</td>\n",
       "      <td>NaN</td>\n",
       "      <td>HR</td>\n",
       "      <td>Graduate</td>\n",
       "      <td>No</td>\n",
       "      <td>43207.0</td>\n",
       "      <td>5101.0</td>\n",
       "      <td>584.0</td>\n",
       "      <td>360.0</td>\n",
       "      <td>0.0</td>\n",
       "      <td>Urban</td>\n",
       "      <td>NaN</td>\n",
       "      <td>-0.720199</td>\n",
       "    </tr>\n",
       "    <tr>\n",
       "      <th>2</th>\n",
       "      <td>LP00003</td>\n",
       "      <td>Female</td>\n",
       "      <td>No</td>\n",
       "      <td>Finance</td>\n",
       "      <td>Graduate</td>\n",
       "      <td>Yes</td>\n",
       "      <td>21018.0</td>\n",
       "      <td>3607.0</td>\n",
       "      <td>555.0</td>\n",
       "      <td>240.0</td>\n",
       "      <td>0.0</td>\n",
       "      <td>Urban</td>\n",
       "      <td>N</td>\n",
       "      <td>-0.917057</td>\n",
       "    </tr>\n",
       "    <tr>\n",
       "      <th>3</th>\n",
       "      <td>LP00004</td>\n",
       "      <td>Female</td>\n",
       "      <td>Yes</td>\n",
       "      <td>Finance</td>\n",
       "      <td>Not Graduate</td>\n",
       "      <td>Yes</td>\n",
       "      <td>NaN</td>\n",
       "      <td>602.0</td>\n",
       "      <td>NaN</td>\n",
       "      <td>300.0</td>\n",
       "      <td>0.0</td>\n",
       "      <td>Semiurban</td>\n",
       "      <td>Y</td>\n",
       "      <td>-1.313011</td>\n",
       "    </tr>\n",
       "    <tr>\n",
       "      <th>4</th>\n",
       "      <td>LP00005</td>\n",
       "      <td>NaN</td>\n",
       "      <td>No</td>\n",
       "      <td>Finance</td>\n",
       "      <td>Graduate</td>\n",
       "      <td>No</td>\n",
       "      <td>34070.0</td>\n",
       "      <td>4473.0</td>\n",
       "      <td>394.0</td>\n",
       "      <td>12.0</td>\n",
       "      <td>1.0</td>\n",
       "      <td>Rural</td>\n",
       "      <td>Y</td>\n",
       "      <td>-0.802948</td>\n",
       "    </tr>\n",
       "    <tr>\n",
       "      <th>...</th>\n",
       "      <td>...</td>\n",
       "      <td>...</td>\n",
       "      <td>...</td>\n",
       "      <td>...</td>\n",
       "      <td>...</td>\n",
       "      <td>...</td>\n",
       "      <td>...</td>\n",
       "      <td>...</td>\n",
       "      <td>...</td>\n",
       "      <td>...</td>\n",
       "      <td>...</td>\n",
       "      <td>...</td>\n",
       "      <td>...</td>\n",
       "      <td>...</td>\n",
       "    </tr>\n",
       "    <tr>\n",
       "      <th>95</th>\n",
       "      <td>LP00096</td>\n",
       "      <td>Male</td>\n",
       "      <td>Yes</td>\n",
       "      <td>Finance</td>\n",
       "      <td>NaN</td>\n",
       "      <td>Yes</td>\n",
       "      <td>3968.0</td>\n",
       "      <td>18547.0</td>\n",
       "      <td>266.0</td>\n",
       "      <td>360.0</td>\n",
       "      <td>1.0</td>\n",
       "      <td>Urban</td>\n",
       "      <td>N</td>\n",
       "      <td>1.051515</td>\n",
       "    </tr>\n",
       "    <tr>\n",
       "      <th>96</th>\n",
       "      <td>LP00097</td>\n",
       "      <td>Female</td>\n",
       "      <td>NaN</td>\n",
       "      <td>Sales</td>\n",
       "      <td>NaN</td>\n",
       "      <td>Yes</td>\n",
       "      <td>46489.0</td>\n",
       "      <td>9012.0</td>\n",
       "      <td>446.0</td>\n",
       "      <td>60.0</td>\n",
       "      <td>1.0</td>\n",
       "      <td>Rural</td>\n",
       "      <td>Y</td>\n",
       "      <td>-0.204866</td>\n",
       "    </tr>\n",
       "    <tr>\n",
       "      <th>97</th>\n",
       "      <td>LP00098</td>\n",
       "      <td>NaN</td>\n",
       "      <td>No</td>\n",
       "      <td>Sales</td>\n",
       "      <td>Not Graduate</td>\n",
       "      <td>Yes</td>\n",
       "      <td>31250.0</td>\n",
       "      <td>12330.0</td>\n",
       "      <td>437.0</td>\n",
       "      <td>60.0</td>\n",
       "      <td>0.0</td>\n",
       "      <td>Semiurban</td>\n",
       "      <td>Y</td>\n",
       "      <td>0.232331</td>\n",
       "    </tr>\n",
       "    <tr>\n",
       "      <th>98</th>\n",
       "      <td>LP00099</td>\n",
       "      <td>Female</td>\n",
       "      <td>No</td>\n",
       "      <td>Finance</td>\n",
       "      <td>Not Graduate</td>\n",
       "      <td>No</td>\n",
       "      <td>NaN</td>\n",
       "      <td>3535.0</td>\n",
       "      <td>99.0</td>\n",
       "      <td>180.0</td>\n",
       "      <td>0.0</td>\n",
       "      <td>Semiurban</td>\n",
       "      <td>Y</td>\n",
       "      <td>-0.926544</td>\n",
       "    </tr>\n",
       "    <tr>\n",
       "      <th>99</th>\n",
       "      <td>LP00100</td>\n",
       "      <td>Female</td>\n",
       "      <td>No</td>\n",
       "      <td>HR</td>\n",
       "      <td>Not Graduate</td>\n",
       "      <td>Yes</td>\n",
       "      <td>46099.0</td>\n",
       "      <td>19394.0</td>\n",
       "      <td>93.0</td>\n",
       "      <td>300.0</td>\n",
       "      <td>1.0</td>\n",
       "      <td>Rural</td>\n",
       "      <td>N</td>\n",
       "      <td>1.163120</td>\n",
       "    </tr>\n",
       "  </tbody>\n",
       "</table>\n",
       "<p>100 rows × 14 columns</p>\n",
       "</div>"
      ],
      "text/plain": [
       "    Loan_ID  Gender Married Department     Education Self_Employed  \\\n",
       "0   LP00001    Male      No         HR      Graduate            No   \n",
       "1   LP00002  Female     NaN         HR      Graduate            No   \n",
       "2   LP00003  Female      No    Finance      Graduate           Yes   \n",
       "3   LP00004  Female     Yes    Finance  Not Graduate           Yes   \n",
       "4   LP00005     NaN      No    Finance      Graduate            No   \n",
       "..      ...     ...     ...        ...           ...           ...   \n",
       "95  LP00096    Male     Yes    Finance           NaN           Yes   \n",
       "96  LP00097  Female     NaN      Sales           NaN           Yes   \n",
       "97  LP00098     NaN      No      Sales  Not Graduate           Yes   \n",
       "98  LP00099  Female      No    Finance  Not Graduate            No   \n",
       "99  LP00100  Female      No         HR  Not Graduate           Yes   \n",
       "\n",
       "    ApplicantIncome  CoapplicantIncome  LoanAmount  Loan_Amount_Term  \\\n",
       "0           26453.0             2297.0       534.0              60.0   \n",
       "1           43207.0             5101.0       584.0             360.0   \n",
       "2           21018.0             3607.0       555.0             240.0   \n",
       "3               NaN              602.0         NaN             300.0   \n",
       "4           34070.0             4473.0       394.0              12.0   \n",
       "..              ...                ...         ...               ...   \n",
       "95           3968.0            18547.0       266.0             360.0   \n",
       "96          46489.0             9012.0       446.0              60.0   \n",
       "97          31250.0            12330.0       437.0              60.0   \n",
       "98              NaN             3535.0        99.0             180.0   \n",
       "99          46099.0            19394.0        93.0             300.0   \n",
       "\n",
       "    Credit_History Property_Area Loan_Status   z_score  \n",
       "0              1.0     Semiurban           Y -1.089669  \n",
       "1              0.0         Urban         NaN -0.720199  \n",
       "2              0.0         Urban           N -0.917057  \n",
       "3              0.0     Semiurban           Y -1.313011  \n",
       "4              1.0         Rural           Y -0.802948  \n",
       "..             ...           ...         ...       ...  \n",
       "95             1.0         Urban           N  1.051515  \n",
       "96             1.0         Rural           Y -0.204866  \n",
       "97             0.0     Semiurban           Y  0.232331  \n",
       "98             0.0     Semiurban           Y -0.926544  \n",
       "99             1.0         Rural           N  1.163120  \n",
       "\n",
       "[100 rows x 14 columns]"
      ]
     },
     "execution_count": 17,
     "metadata": {},
     "output_type": "execute_result"
    }
   ],
   "source": [
    "dataset[dataset[\"z_score\"]<3]"
   ]
  }
 ],
 "metadata": {
  "kernelspec": {
   "display_name": "Python 3",
   "language": "python",
   "name": "python3"
  },
  "language_info": {
   "codemirror_mode": {
    "name": "ipython",
    "version": 3
   },
   "file_extension": ".py",
   "mimetype": "text/x-python",
   "name": "python",
   "nbconvert_exporter": "python",
   "pygments_lexer": "ipython3",
   "version": "3.12.4"
  }
 },
 "nbformat": 4,
 "nbformat_minor": 5
}
